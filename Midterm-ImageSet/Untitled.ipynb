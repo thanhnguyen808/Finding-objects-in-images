{
 "cells": [
  {
   "cell_type": "code",
   "execution_count": 4,
   "id": "c036f902-fd1f-4194-9433-bc3ded4611e7",
   "metadata": {
    "jupyter": {
     "source_hidden": true
    }
   },
   "outputs": [],
   "source": [
    "import cv2\n",
    "from matplotlib import pyplot as plt\n",
    "import numpy as np\n",
    "from sklearn.cluster import MeanShift, estimate_bandwidth\n",
    "\n",
    "# Đọc ảnh\n",
    "img1 = cv2.imread('2.jpg', 0)  # Template Image (ảnh mẫu)\n",
    "img2 = cv2.imread('1.jpg')     # Search Image (ảnh cần tìm kiếm)\n",
    "img_rgb = cv2.imread('1.jpg')  # Ảnh để vẽ kết quả\n"
   ]
  },
  {
   "cell_type": "code",
   "execution_count": 5,
   "id": "ccf5bd01-b00f-468d-8443-50c5e2075ae8",
   "metadata": {},
   "outputs": [
    {
     "ename": "error",
     "evalue": "OpenCV(4.6.0) C:\\b\\abs_f8n1j3l9l0\\croot\\opencv-suite_1691622637237\\work\\modules\\features2d\\src\\sift.dispatch.cpp:477: error: (-5:Bad argument) image is empty or has incorrect depth (!=CV_8U) in function 'cv::SIFT_Impl::detectAndCompute'\n",
     "output_type": "error",
     "traceback": [
      "\u001b[1;31m---------------------------------------------------------------------------\u001b[0m",
      "\u001b[1;31merror\u001b[0m                                     Traceback (most recent call last)",
      "Cell \u001b[1;32mIn[5], line 5\u001b[0m\n\u001b[0;32m      2\u001b[0m alg \u001b[38;5;241m=\u001b[39m cv2\u001b[38;5;241m.\u001b[39mSIFT_create()\n\u001b[0;32m      4\u001b[0m \u001b[38;5;66;03m# Tìm keypoints và descriptors\u001b[39;00m\n\u001b[1;32m----> 5\u001b[0m kp1, des1 \u001b[38;5;241m=\u001b[39m \u001b[43malg\u001b[49m\u001b[38;5;241;43m.\u001b[39;49m\u001b[43mdetectAndCompute\u001b[49m\u001b[43m(\u001b[49m\u001b[43mimg1\u001b[49m\u001b[43m,\u001b[49m\u001b[43m \u001b[49m\u001b[38;5;28;43;01mNone\u001b[39;49;00m\u001b[43m)\u001b[49m\n\u001b[0;32m      6\u001b[0m kp2, des2 \u001b[38;5;241m=\u001b[39m alg\u001b[38;5;241m.\u001b[39mdetectAndCompute(img2, \u001b[38;5;28;01mNone\u001b[39;00m)\n\u001b[0;32m      8\u001b[0m \u001b[38;5;28mprint\u001b[39m(\u001b[38;5;124mf\u001b[39m\u001b[38;5;124m\"\u001b[39m\u001b[38;5;124mSố keypoints trong ảnh mẫu: \u001b[39m\u001b[38;5;132;01m{\u001b[39;00m\u001b[38;5;28mlen\u001b[39m(kp1)\u001b[38;5;132;01m}\u001b[39;00m\u001b[38;5;124m\"\u001b[39m)\n",
      "\u001b[1;31merror\u001b[0m: OpenCV(4.6.0) C:\\b\\abs_f8n1j3l9l0\\croot\\opencv-suite_1691622637237\\work\\modules\\features2d\\src\\sift.dispatch.cpp:477: error: (-5:Bad argument) image is empty or has incorrect depth (!=CV_8U) in function 'cv::SIFT_Impl::detectAndCompute'\n"
     ]
    }
   ],
   "source": [
    "# Tạo SIFT detector\n",
    "alg = cv2.SIFT_create()\n",
    "\n",
    "# Tìm keypoints và descriptors\n",
    "kp1, des1 = alg.detectAndCompute(img1, None)\n",
    "kp2, des2 = alg.detectAndCompute(img2, None)\n",
    "\n",
    "print(f\"Số keypoints trong ảnh mẫu: {len(kp1)}\")\n",
    "print(f\"Số keypoints trong ảnh tìm kiếm: {len(kp2)}\")\n"
   ]
  },
  {
   "cell_type": "code",
   "execution_count": null,
   "id": "b2b6f2f4-3a97-4e14-bd67-be4fe5fabd13",
   "metadata": {},
   "outputs": [],
   "source": [
    "# Chuyển keypoints thành mảng numpy\n",
    "x = np.array([kp.pt for kp in kp2])\n",
    "\n",
    "# Ước lượng bandwidth cho MeanShift\n",
    "bandwidth = estimate_bandwidth(x, quantile=0.1, n_samples=500)\n",
    "\n",
    "# Áp dụng MeanShift clustering\n",
    "ms = MeanShift(bandwidth=bandwidth, bin_seeding=True, cluster_all=True)\n",
    "ms.fit(x)\n",
    "labels = ms.labels_\n",
    "cluster_centers = ms.cluster_centers_\n",
    "\n",
    "n_clusters_ = len(np.unique(labels))\n",
    "print(\"Số cụm được tìm thấy:\", n_clusters_)\n",
    "\n",
    "# Gom nhóm keypoints theo từng cụm\n",
    "s = [[] for _ in range(n_clusters_)]\n",
    "for i, label in enumerate(labels):\n",
    "    s[label].append(kp2[i])\n"
   ]
  },
  {
   "cell_type": "code",
   "execution_count": null,
   "id": "bde02439-f5b3-46c1-8c35-144dff36e976",
   "metadata": {},
   "outputs": [],
   "source": [
    "FLANN_INDEX_KDTREE = 0\n",
    "index_params = dict(algorithm=FLANN_INDEX_KDTREE, trees=5)\n",
    "search_params = dict(checks=50)\n",
    "flann = cv2.FlannBasedMatcher(index_params, search_params)\n",
    "\n",
    "des1 = np.float32(des1)\n",
    "des2_ = np.float32(des2)\n",
    "\n",
    "for i in range(n_clusters_):\n",
    "    kp2 = s[i]\n",
    "\n",
    "    if len(kp2) < 2 or len(kp1) < 2:\n",
    "        continue\n",
    "\n",
    "    # Lấy descriptors tương ứng với keypoints trong cụm\n",
    "    d_indices = [kp2.index(kp) for kp in kp2]\n",
    "    des2 = des2_[d_indices, :]\n",
    "\n",
    "    matches = flann.knnMatch(des1, des2, k=2)\n",
    "\n",
    "    # Áp dụng Lowe’s ratio test\n",
    "    good = [m for m, n in matches if m.distance < 0.7 * n.distance]\n",
    "\n",
    "    if len(good) > 3:\n",
    "        src_pts = np.float32([kp1[m.queryIdx].pt for m in good]).reshape(-1, 1, 2)\n",
    "        dst_pts = np.float32([kp2[m.trainIdx].pt for m in good]).reshape(-1, 1, 2)\n",
    "\n",
    "        M, mask = cv2.findHomography(src_pts, dst_pts, cv2.RANSAC, 2)\n",
    "\n",
    "        if M is not None:\n",
    "            h, w = img1.shape\n",
    "            corners = np.float32([[0, 0], [0, h - 1], [w - 1, h - 1], [w - 1, 0]]).reshape(-1, 1, 2)\n",
    "            transformedCorners = cv2.perspectiveTransform(corners, M)\n",
    "\n",
    "            x, y = int(transformedCorners[0][0][0]), int(transformedCorners[0][0][1])\n",
    "\n",
    "            # Vẽ hình chữ nhật quanh khu vực tìm thấy\n",
    "            cv2.rectangle(img_rgb, (x, y), (x + w, y + h), (0, 0, 255), 3)\n",
    "            img2 = cv2.polylines(img2, [np.int32(transformedCorners)], True, (0, 0, 255), 2, cv2.LINE_AA)\n"
   ]
  },
  {
   "cell_type": "code",
   "execution_count": null,
   "id": "95f59e9a-e860-42ad-b4ff-4d2c9a4ef9dc",
   "metadata": {},
   "outputs": [],
   "source": [
    "plt.figure(figsize=(10,5))\n",
    "\n",
    "# Hiển thị ảnh đã tìm thấy đối tượng\n",
    "plt.subplot(1,2,1)\n",
    "plt.imshow(cv2.cvtColor(img_rgb, cv2.COLOR_BGR2RGB))\n",
    "plt.title(\"Detected Objects\")\n",
    "\n",
    "# Hiển thị ảnh với đường viền tìm thấy\n",
    "plt.subplot(1,2,2)\n",
    "plt.imshow(cv2.cvtColor(img2, cv2.COLOR_BGR2RGB))\n",
    "plt.title(\"Matched Keypoints\")\n",
    "\n",
    "plt.show()\n",
    "\n",
    "# Lưu ảnh kết quả\n",
    "cv2.imwrite('result.jpg', img_rgb)\n"
   ]
  },
  {
   "cell_type": "code",
   "execution_count": null,
   "id": "11fde17d-66a7-4e2c-8235-dec910259795",
   "metadata": {},
   "outputs": [],
   "source": []
  }
 ],
 "metadata": {
  "kernelspec": {
   "display_name": "Python 3 (ipykernel)",
   "language": "python",
   "name": "python3"
  },
  "language_info": {
   "codemirror_mode": {
    "name": "ipython",
    "version": 3
   },
   "file_extension": ".py",
   "mimetype": "text/x-python",
   "name": "python",
   "nbconvert_exporter": "python",
   "pygments_lexer": "ipython3",
   "version": "3.11.5"
  }
 },
 "nbformat": 4,
 "nbformat_minor": 5
}
